{
 "cells": [
  {
   "cell_type": "code",
   "execution_count": 1,
   "metadata": {},
   "outputs": [],
   "source": [
    "import sys, os\n",
    "sys.path.append(os.pardir)\n",
    "import numpy as np\n",
    "from common.functions import *\n",
    "from common.loss_functions import batch_cross_entropy_error\n",
    "from two_layer_net import TwoLayerNet\n",
    "import time"
   ]
  },
  {
   "cell_type": "code",
   "execution_count": 2,
   "metadata": {},
   "outputs": [],
   "source": [
    "import matplotlib.pyplot as plt\n",
    "from dataset.mnist import load_mnist\n",
    "(x_train, t_train), (x_test, t_test) = \\\n",
    "        load_mnist(normalize=True, one_hot_label=True)"
   ]
  },
  {
   "cell_type": "code",
   "execution_count": 3,
   "metadata": {},
   "outputs": [
    {
     "name": "stdout",
     "output_type": "stream",
     "text": [
      "iter_per_epoch = 120\n",
      "epochs = 9\n"
     ]
    }
   ],
   "source": [
    "iters_num = 1000  # 실제 코드 : 10000\n",
    "train_size = x_train.shape[0]\n",
    "batch_size = 500  # 실제 코드 : 100\n",
    "learning_rate = 0.1\n",
    "\n",
    "train_loss_list = []\n",
    "train_acc_list = []\n",
    "test_acc_list = []\n",
    "\n",
    "iter_per_epoch = train_size // batch_size\n",
    "print('iter_per_epoch =', iter_per_epoch)\n",
    "print('epochs =', iters_num // iter_per_epoch \n",
    "      if iters_num % iter_per_epoch == 0 else iters_num // iter_per_epoch + 1)"
   ]
  },
  {
   "cell_type": "code",
   "execution_count": 4,
   "metadata": {},
   "outputs": [
    {
     "name": "stdout",
     "output_type": "stream",
     "text": [
      "(784, 50)\n",
      "(50,)\n",
      "(50, 10)\n",
      "(10,)\n"
     ]
    }
   ],
   "source": [
    "net = TwoLayerNet(input_size=784, hidden_size=50, output_size=10)\n",
    "print(net.params['W1'].shape)\n",
    "print(net.params['b1'].shape)\n",
    "print(net.params['W2'].shape)\n",
    "print(net.params['b2'].shape)"
   ]
  },
  {
   "cell_type": "code",
   "execution_count": 5,
   "metadata": {},
   "outputs": [
    {
     "name": "stdout",
     "output_type": "stream",
     "text": [
      "0 iter train acc, test acc : 0.0889, 0.0865\n",
      "0 iteration time = 152.28 sec\n",
      "120 iter train acc, test acc : 0.8062, 0.8123\n",
      "120 iteration time = 18189.62 sec\n",
      "240 iter train acc, test acc : 0.8670, 0.8725\n",
      "240 iteration time = 36347.82 sec\n",
      "360 iter train acc, test acc : 0.8840, 0.8906\n",
      "360 iteration time = 55320.22 sec\n",
      "480 iter train acc, test acc : 0.8932, 0.8988\n",
      "480 iteration time = 73661.63 sec\n",
      "600 iter train acc, test acc : 0.8956, 0.9025\n",
      "600 iteration time = 92374.45 sec\n",
      "720 iter train acc, test acc : 0.8979, 0.9042\n",
      "720 iteration time = 110415.52 sec\n",
      "840 iter train acc, test acc : 0.8992, 0.9053\n",
      "840 iteration time = 128502.12 sec\n",
      "960 iter train acc, test acc : 0.9015, 0.9072\n",
      "960 iteration time = 146844.47 sec\n",
      "999 iter train acc, test acc : 0.8979, 0.9044\n",
      "999 iteration time = 152915.06 sec\n"
     ]
    }
   ],
   "source": [
    "# train\n",
    "start_time = time.time()\n",
    "for i in range(iters_num):\n",
    "    batch_mask = np.random.choice(train_size, batch_size)\n",
    "    x_batch = x_train[batch_mask]\n",
    "    t_batch = t_train[batch_mask]\n",
    "    \n",
    "    grad = net.numerical_gradient(x_batch, t_batch)\n",
    "    \n",
    "    for key in ('W1', 'b1', 'W2', 'b1'):\n",
    "        net.params[key] -= learning_rate * grad[key]\n",
    "    \n",
    "    loss = net.loss(x_batch, t_batch)\n",
    "    train_loss_list.append(loss)\n",
    "    if i % iter_per_epoch == 0 or i == iters_num-1:\n",
    "        train_acc = net.accuracy(x_train, t_train)\n",
    "        test_acc = net.accuracy(x_test, t_test)\n",
    "        train_acc_list.append(train_acc)\n",
    "        test_acc_list.append(test_acc)\n",
    "        print('%d iter train acc, test acc : %.4f, %.4f' \n",
    "              % (i, train_acc, test_acc))\n",
    "        print('%d iteration time = %.2f sec' % (i, time.time() - start_time))"
   ]
  },
  {
   "cell_type": "code",
   "execution_count": 6,
   "metadata": {},
   "outputs": [
    {
     "data": {
      "image/png": "[encoded data removed]",
      "text/plain": [
       "<Figure size 432x288 with 1 Axes>"
      ]
     },
     "metadata": {
      "needs_background": "light"
     },
     "output_type": "display_data"
    }
   ],
   "source": [
    "x = np.arange(len(train_acc_list))\n",
    "plt.plot(x, train_acc_list, label='train acc')\n",
    "plt.plot(x, test_acc_list, label='test acc', linestyle='--')\n",
    "plt.xlabel('epochs')\n",
    "plt.ylabel('accuracy')\n",
    "plt.ylim(0, 1.0)\n",
    "plt.legend(loc='lower right')\n",
    "plt.show()"
   ]
  },
  {
   "cell_type": "code",
   "execution_count": null,
   "metadata": {},
   "outputs": [],
   "source": []
  }
 ],
 "metadata": {
  "kernelspec": {
   "display_name": "Python 3",
   "language": "python",
   "name": "python3"
  },
  "language_info": {
   "codemirror_mode": {
    "name": "ipython",
    "version": 3
   },
   "file_extension": ".py",
   "mimetype": "text/x-python",
   "name": "python",
   "nbconvert_exporter": "python",
   "pygments_lexer": "ipython3",
   "version": "3.5.2"
  }
 },
 "nbformat": 4,
 "nbformat_minor": 2
}
