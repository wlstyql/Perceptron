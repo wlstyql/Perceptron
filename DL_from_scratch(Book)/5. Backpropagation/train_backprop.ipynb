{
 "cells": [
  {
   "cell_type": "code",
   "execution_count": 1,
   "metadata": {},
   "outputs": [],
   "source": [
    "import sys, os\n",
    "sys.path.append(os.pardir)\n",
    "import time\n",
    "import matplotlib.pyplot as plt\n",
    "import numpy as np\n",
    "from dataset.mnist import load_mnist\n",
    "from two_layer_net import TwoLayerNet"
   ]
  },
  {
   "cell_type": "code",
   "execution_count": 2,
   "metadata": {},
   "outputs": [],
   "source": [
    "(x_train, t_train), (x_test, t_test) = \\\n",
    "    load_mnist(normalize=True, one_hot_label=True)\n",
    "network = TwoLayerNet(input_size=784, hidden_size=50, output_size=10)"
   ]
  },
  {
   "cell_type": "code",
   "execution_count": 3,
   "metadata": {},
   "outputs": [
    {
     "name": "stdout",
     "output_type": "stream",
     "text": [
      "iter_per_epoch = 120\n",
      "epochs = 9\n"
     ]
    }
   ],
   "source": [
    "# 수치 미분 때와 동일하게\n",
    "iters_num = 1000 \n",
    "train_size = x_train.shape[0]\n",
    "batch_size = 500  # 실제 코드 : 100\n",
    "learning_rate = 0.1\n",
    "\n",
    "train_loss_list = []\n",
    "train_acc_list = []\n",
    "test_acc_list = []\n",
    "\n",
    "iter_per_epoch = train_size // batch_size\n",
    "print('iter_per_epoch =', iter_per_epoch)\n",
    "print('epochs =', iters_num // iter_per_epoch \n",
    "      if iters_num % iter_per_epoch == 0 else iters_num // iter_per_epoch + 1)"
   ]
  },
  {
   "cell_type": "code",
   "execution_count": 4,
   "metadata": {},
   "outputs": [
    {
     "name": "stdout",
     "output_type": "stream",
     "text": [
      "0 iter train acc, test acc : 0.0437, 0.0411\n",
      "0 iteration time = 0.48 sec\n",
      "120 iter train acc, test acc : 0.7676, 0.7760\n",
      "120 iteration time = 2.00 sec\n",
      "240 iter train acc, test acc : 0.8686, 0.8741\n",
      "240 iteration time = 3.50 sec\n",
      "360 iter train acc, test acc : 0.8902, 0.8949\n",
      "360 iteration time = 5.01 sec\n",
      "480 iter train acc, test acc : 0.9000, 0.9036\n",
      "480 iteration time = 6.48 sec\n",
      "600 iter train acc, test acc : 0.9072, 0.9093\n",
      "600 iteration time = 7.97 sec\n",
      "720 iter train acc, test acc : 0.9110, 0.9161\n",
      "720 iteration time = 9.45 sec\n",
      "840 iter train acc, test acc : 0.9148, 0.9163\n",
      "840 iteration time = 10.94 sec\n",
      "960 iter train acc, test acc : 0.9183, 0.9196\n",
      "960 iteration time = 12.43 sec\n",
      "999 iter train acc, test acc : 0.9191, 0.9200\n",
      "999 iteration time = 13.22 sec\n"
     ]
    }
   ],
   "source": [
    "# train\n",
    "start_time = time.time()\n",
    "for i in range(iters_num):\n",
    "    batch_mask = np.random.choice(train_size, batch_size)\n",
    "    x_batch = x_train[batch_mask]\n",
    "    t_batch = t_train[batch_mask]\n",
    "    \n",
    "    grad = network.gradient(x_batch, t_batch) # backpropagation\n",
    "    \n",
    "    for key in ('W1', 'b1', 'W2', 'b1'):\n",
    "        network.params[key] -= learning_rate * grad[key]\n",
    "    \n",
    "    loss = network.loss(x_batch, t_batch)\n",
    "    train_loss_list.append(loss)\n",
    "    if i % iter_per_epoch == 0 or i == iters_num-1:\n",
    "        train_acc = network.accuracy(x_train, t_train)\n",
    "        test_acc = network.accuracy(x_test, t_test)\n",
    "        train_acc_list.append(train_acc)\n",
    "        test_acc_list.append(test_acc)\n",
    "        print('%d iter train acc, test acc : %.4f, %.4f' \n",
    "              % (i, train_acc, test_acc))\n",
    "        print('%d iteration time = %.2f sec' % (i, time.time() - start_time))"
   ]
  },
  {
   "cell_type": "code",
   "execution_count": 5,
   "metadata": {},
   "outputs": [
    {
     "data": {
      "image/png": "[encoded data removed]",
      "text/plain": [
       "<Figure size 432x288 with 1 Axes>"
      ]
     },
     "metadata": {
      "needs_background": "light"
     },
     "output_type": "display_data"
    }
   ],
   "source": [
    "x = np.arange(len(train_acc_list))\n",
    "plt.plot(x, train_acc_list, label='train acc')\n",
    "plt.plot(x, test_acc_list, label='test acc', linestyle='--')\n",
    "plt.xlabel('epochs')\n",
    "plt.ylabel('accuracy')\n",
    "plt.ylim(0, 1.0)\n",
    "plt.legend(loc='lower right')\n",
    "plt.show()"
   ]
  },
  {
   "cell_type": "code",
   "execution_count": null,
   "metadata": {},
   "outputs": [],
   "source": []
  }
 ],
 "metadata": {
  "kernelspec": {
   "display_name": "Python 3",
   "language": "python",
   "name": "python3"
  },
  "language_info": {
   "codemirror_mode": {
    "name": "ipython",
    "version": 3
   },
   "file_extension": ".py",
   "mimetype": "text/x-python",
   "name": "python",
   "nbconvert_exporter": "python",
   "pygments_lexer": "ipython3",
   "version": "3.5.2"
  }
 },
 "nbformat": 4,
 "nbformat_minor": 2
}
